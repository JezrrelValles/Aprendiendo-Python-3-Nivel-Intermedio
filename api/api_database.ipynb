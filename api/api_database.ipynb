{
 "cells": [
  {
   "cell_type": "code",
   "execution_count": 1,
   "metadata": {},
   "outputs": [],
   "source": [
    "import sqlite3\n",
    "from fastapi import FastAPI\n",
    "from pydantic import BaseModel"
   ]
  },
  {
   "cell_type": "code",
   "execution_count": 2,
   "metadata": {},
   "outputs": [],
   "source": [
    "conn = sqlite3.connect(\"data.db\")\n",
    "\n",
    "cursor = conn.cursor()\n",
    "\n",
    "cursor.execute(\"\"\"\n",
    "    CREATE TABLE IF NOT EXISTS datos (\n",
    "        id INTEGER PRIMARY KEY AUTOINCREMENT,\n",
    "        nombre TEXT NOT NULL,\n",
    "        edad INTEGER,\n",
    "        curso TEXT NOT NULL\n",
    "    )\n",
    "\"\"\")\n",
    "\n",
    "conn.commit()\n",
    "conn.close()"
   ]
  },
  {
   "cell_type": "code",
   "execution_count": 3,
   "metadata": {},
   "outputs": [],
   "source": [
    "class Datos(BaseModel):\n",
    "    nombre: str\n",
    "    edad: int\n",
    "    curso: str"
   ]
  },
  {
   "cell_type": "code",
   "execution_count": 4,
   "metadata": {},
   "outputs": [],
   "source": [
    "app = FastAPI()\n",
    "\n",
    "@app.post(\"/agregar/\")\n",
    "async def agregar_datos(datos: Datos):\n",
    "    conn = sqlite3.connect(\"data.db\")\n",
    "    cursor = conn.cursor()\n",
    "    cursor.execute(\"INSERT INTO datos (nombre, edad, curso) VALUES (?, ?, ?)\", (datos.nombre, datos.edad, datos.curso))\n",
    "    conn.commit()\n",
    "    conn.close()\n",
    "    return {\"mensaje\": \"Datos agregados exitosamente\"}\n",
    "\n",
    "@app.get(\"/consultar/{id}/\")\n",
    "async def consultar_datos(id: int):\n",
    "    conn = sqlite3.connect(\"data.db\")\n",
    "    cursor = conn.cursor()\n",
    "    cursor.execute(\"SELECT nombre, edad, curso FROM datos WHERE id=?\", (id,))\n",
    "    resultado = cursor.fetchone()\n",
    "    conn.close()\n",
    "    if resultado is not None:\n",
    "        return {\"nombre\": resultado[0], \"edad\": resultado[1], \"curso\": resultado[2]}\n",
    "    else:\n",
    "        return {\"mensaje\": \"Datos no encontrados\"}"
   ]
  }
 ],
 "metadata": {
  "kernelspec": {
   "display_name": "Python 3",
   "language": "python",
   "name": "python3"
  },
  "language_info": {
   "codemirror_mode": {
    "name": "ipython",
    "version": 3
   },
   "file_extension": ".py",
   "mimetype": "text/x-python",
   "name": "python",
   "nbconvert_exporter": "python",
   "pygments_lexer": "ipython3",
   "version": "3.11.1"
  },
  "orig_nbformat": 4
 },
 "nbformat": 4,
 "nbformat_minor": 2
}
